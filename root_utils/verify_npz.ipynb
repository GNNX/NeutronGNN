{
 "cells": [
  {
   "cell_type": "code",
   "execution_count": 1,
   "metadata": {},
   "outputs": [],
   "source": [
    "import numpy as np\n",
    "import argparse\n",
    "\n",
    "# root_utils in parent direcory\n",
    "import os,sys,inspect\n",
    "current_dir = os.path.dirname(os.path.abspath(inspect.getfile(inspect.currentframe())))\n",
    "parent_dir = os.path.dirname(current_dir)\n",
    "sys.path.insert(0, parent_dir) \n",
    "from root_utils import pos_utils\n",
    "\n",
    "import matplotlib.pyplot as plt\n",
    "from mpl_toolkits.mplot3d import Axes3D\n",
    "\n",
    "# Make plots appear and be stored within the notebook\n",
    "%matplotlib inline"
   ]
  },
  {
   "cell_type": "code",
   "execution_count": 2,
   "metadata": {},
   "outputs": [],
   "source": [
    "#Electron file\n",
    "eminus_file = \"/fast_scratch/NeutronGNN/eminus/IWCDshort_ncapt_e-_E0to20MeV_unif-pos-R400-y300cm_4pi-dir_100evts_1.npz\"\n",
    "#Neutron file\n",
    "neutron_file = \"/fast_scratch/NeutronGNN/neutron/IWCDshort_ncapt_neutron_E1to1MeV_unif-pos-R400-y300cm_4pi-dir_100evts_0.npz\""
   ]
  },
  {
   "cell_type": "code",
   "execution_count": 3,
   "metadata": {},
   "outputs": [],
   "source": [
    "# Load npz file\n",
    "npz_file = np.load(eminus_file, allow_pickle=True)\n",
    "\n",
    "# Get the relevant data arrays\n",
    "charge_data = npz_file['digi_hit_charge'].flatten()\n",
    "time_data   = npz_file['digi_hit_time'].flatten()\n",
    "\n",
    "charge_data = np.hstack(charge_data)\n",
    "time_data   = np.hstack(time_data)"
   ]
  },
  {
   "cell_type": "code",
   "execution_count": 4,
   "metadata": {},
   "outputs": [
    {
     "data": {
      "text/plain": [
       "(array([  8.,  55., 120., 143., 187., 250., 289., 401., 488., 562., 653.,\n",
       "        680., 670., 553., 480., 346., 239., 186., 102.,  53.,  61.,  35.,\n",
       "         31.,  34.,  29.,  25.,  28.,  18.,  15.,  23.,  13.,  12.,   8.,\n",
       "         10.,   6.,   3.,   7.,   4.,   6.,   3.,   3.,   8.,   3.,   4.,\n",
       "          7.,   6.,   5.,   3.,   1.]),\n",
       " array([0. , 0.1, 0.2, 0.3, 0.4, 0.5, 0.6, 0.7, 0.8, 0.9, 1. , 1.1, 1.2,\n",
       "        1.3, 1.4, 1.5, 1.6, 1.7, 1.8, 1.9, 2. , 2.1, 2.2, 2.3, 2.4, 2.5,\n",
       "        2.6, 2.7, 2.8, 2.9, 3. , 3.1, 3.2, 3.3, 3.4, 3.5, 3.6, 3.7, 3.8,\n",
       "        3.9, 4. , 4.1, 4.2, 4.3, 4.4, 4.5, 4.6, 4.7, 4.8, 4.9]),\n",
       " <a list of 49 Patch objects>)"
      ]
     },
     "execution_count": 4,
     "metadata": {},
     "output_type": "execute_result"
    },
    {
     "data": {
      "image/png": "[encoded data removed]",
      "text/plain": [
       "<Figure size 432x288 with 1 Axes>"
      ]
     },
     "metadata": {
      "needs_background": "light"
     },
     "output_type": "display_data"
    }
   ],
   "source": [
    "plt.hist(charge_data[np.nonzero(charge_data)], bins=np.arange(0, 5, 0.1))"
   ]
  },
  {
   "cell_type": "code",
   "execution_count": 5,
   "metadata": {},
   "outputs": [
    {
     "data": {
      "text/plain": [
       "(array([5.000e+00, 8.000e+00, 1.490e+02, 6.478e+03, 2.030e+02, 1.000e+01,\n",
       "        6.000e+00]),\n",
       " array([ 800,  850,  900,  950, 1000, 1050, 1100, 1150]),\n",
       " <a list of 7 Patch objects>)"
      ]
     },
     "execution_count": 5,
     "metadata": {},
     "output_type": "execute_result"
    },
    {
     "data": {
      "image/png": "[encoded data removed]",
      "text/plain": [
       "<Figure size 432x288 with 1 Axes>"
      ]
     },
     "metadata": {
      "needs_background": "light"
     },
     "output_type": "display_data"
    }
   ],
   "source": [
    "plt.hist(time_data[np.nonzero(time_data)], bins=np.arange(800, 1200, 50))"
   ]
  }
 ],
 "metadata": {
  "kernelspec": {
   "display_name": "Python 3",
   "language": "python",
   "name": "python3"
  },
  "language_info": {
   "codemirror_mode": {
    "name": "ipython",
    "version": 3
   },
   "file_extension": ".py",
   "mimetype": "text/x-python",
   "name": "python",
   "nbconvert_exporter": "python",
   "pygments_lexer": "ipython3",
   "version": "3.6.9"
  }
 },
 "nbformat": 4,
 "nbformat_minor": 2
}
