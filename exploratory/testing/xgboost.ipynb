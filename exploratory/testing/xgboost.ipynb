{
 "cells": [
  {
   "cell_type": "code",
   "execution_count": 29,
   "metadata": {},
   "outputs": [],
   "source": [
    "import pandas as pd\n",
    "from sklearn.model_selection import train_test_split\n",
    "\n",
    "import numpy as np\n",
    "import h5py\n",
    "\n",
    "\n",
    "import matplotlib.pyplot as plt\n",
    "from mpl_toolkits.mplot3d import Axes3D\n",
    "\n",
    "%matplotlib inline"
   ]
  },
  {
   "cell_type": "code",
   "execution_count": 30,
   "metadata": {},
   "outputs": [
    {
     "name": "stdout",
     "output_type": "stream",
     "text": [
      "['angles', 'energies', 'event_data', 'event_ids', 'labels', 'nhits', 'positions', 'root_files']\n"
     ]
    },
    {
     "data": {
      "image/png": "[encoded data removed]",
      "text/plain": [
       "<Figure size 432x288 with 1 Axes>"
      ]
     },
     "metadata": {
      "needs_background": "light"
     },
     "output_type": "display_data"
    }
   ],
   "source": [
    "h5_filepath = \"/fast_scratch/NeutronGNN/iwcd_mpmt_shorttank_neutrongnn_trainval_10files.h5\"\n",
    "\n",
    "with h5py.File(h5_filepath, 'r') as file:\n",
    "    print(list(file.keys()))\n",
    "    h5_event_data = file['event_data']\n",
    "    h5_nhits = file['nhits']\n",
    "    h5_labels = file['labels']\n",
    "    event_mem_data = np.memmap(h5_filepath, mode='r', shape=h5_event_data.shape,\n",
    "                               offset=h5_event_data.id.get_offset(),\n",
    "                               dtype=h5_event_data.dtype)\n",
    "    non_zero = [np.count_nonzero(event_mem_data[i,:,0]) for i in range(0, event_mem_data.shape[0])]\n",
    "    non_zero  = np.array(non_zero)\n",
    "    q_sum = [np.sum(event_mem_data[i,:,0]) for i in range(0, event_mem_data.shape[0])]\n",
    "    q_sum  = np.array(q_sum)\n",
    "    nhits = np.array(h5_nhits)\n",
    "    labels = np.array(h5_labels)\n",
    "    plt.hist(non_zero, bins=np.arange(0, 300, 6))"
   ]
  },
  {
   "cell_type": "code",
   "execution_count": 31,
   "metadata": {},
   "outputs": [
    {
     "data": {
      "text/plain": [
       "(array([0.000e+00, 1.098e+03, 1.375e+03, 1.313e+03, 1.401e+03, 1.367e+03,\n",
       "        1.189e+03, 9.700e+02, 7.900e+02, 6.950e+02, 5.800e+02, 4.840e+02,\n",
       "        4.550e+02, 3.850e+02, 3.850e+02, 3.590e+02, 3.820e+02, 3.270e+02,\n",
       "        3.450e+02, 2.880e+02, 3.100e+02, 2.560e+02, 2.740e+02, 2.270e+02,\n",
       "        1.910e+02, 1.840e+02, 1.570e+02, 1.410e+02, 8.500e+01, 6.700e+01,\n",
       "        4.000e+01, 2.800e+01, 1.900e+01, 8.000e+00, 4.000e+00, 0.000e+00,\n",
       "        1.000e+00, 0.000e+00, 0.000e+00, 0.000e+00, 0.000e+00, 0.000e+00,\n",
       "        0.000e+00, 0.000e+00, 0.000e+00, 0.000e+00, 0.000e+00, 0.000e+00,\n",
       "        0.000e+00]),\n",
       " array([  0,   6,  12,  18,  24,  30,  36,  42,  48,  54,  60,  66,  72,\n",
       "         78,  84,  90,  96, 102, 108, 114, 120, 126, 132, 138, 144, 150,\n",
       "        156, 162, 168, 174, 180, 186, 192, 198, 204, 210, 216, 222, 228,\n",
       "        234, 240, 246, 252, 258, 264, 270, 276, 282, 288, 294]),\n",
       " <a list of 49 Patch objects>)"
      ]
     },
     "execution_count": 31,
     "metadata": {},
     "output_type": "execute_result"
    },
    {
     "data": {
      "image/png": "[encoded data removed]",
      "text/plain": [
       "<Figure size 432x288 with 1 Axes>"
      ]
     },
     "metadata": {
      "needs_background": "light"
     },
     "output_type": "display_data"
    }
   ],
   "source": [
    "plt.hist(nhits, bins=np.arange(0, 300, 6))"
   ]
  },
  {
   "cell_type": "code",
   "execution_count": 32,
   "metadata": {},
   "outputs": [
    {
     "data": {
      "text/plain": [
       "(array([1.970e+02, 1.465e+03, 1.517e+03, 1.509e+03, 1.567e+03, 1.245e+03,\n",
       "        9.680e+02, 8.460e+02, 7.250e+02, 5.490e+02, 5.160e+02, 3.910e+02,\n",
       "        4.220e+02, 4.110e+02, 3.790e+02, 3.940e+02, 3.510e+02, 3.680e+02,\n",
       "        3.100e+02, 3.320e+02, 2.780e+02, 3.040e+02, 2.810e+02, 2.430e+02,\n",
       "        1.660e+02, 1.240e+02, 1.130e+02, 7.100e+01, 3.900e+01, 2.400e+01,\n",
       "        1.600e+01, 1.200e+01, 1.000e+01, 5.000e+00, 4.000e+00, 5.000e+00,\n",
       "        4.000e+00, 2.000e+00, 1.000e+00, 3.000e+00, 4.000e+00, 0.000e+00,\n",
       "        1.000e+00, 3.000e+00, 0.000e+00, 0.000e+00, 1.000e+00, 1.000e+00,\n",
       "        1.000e+00]),\n",
       " array([  0,   8,  16,  24,  32,  40,  48,  56,  64,  72,  80,  88,  96,\n",
       "        104, 112, 120, 128, 136, 144, 152, 160, 168, 176, 184, 192, 200,\n",
       "        208, 216, 224, 232, 240, 248, 256, 264, 272, 280, 288, 296, 304,\n",
       "        312, 320, 328, 336, 344, 352, 360, 368, 376, 384, 392]),\n",
       " <a list of 49 Patch objects>)"
      ]
     },
     "execution_count": 32,
     "metadata": {},
     "output_type": "execute_result"
    },
    {
     "data": {
      "image/png": "[encoded data removed]",
      "text/plain": [
       "<Figure size 432x288 with 1 Axes>"
      ]
     },
     "metadata": {
      "needs_background": "light"
     },
     "output_type": "display_data"
    }
   ],
   "source": [
    "plt.hist(q_sum, bins=np.arange(0, 400, 8))"
   ]
  },
  {
   "cell_type": "code",
   "execution_count": 33,
   "metadata": {},
   "outputs": [
    {
     "name": "stdout",
     "output_type": "stream",
     "text": [
      "[1 1 1 ... 0 0 0]\n"
     ]
    },
    {
     "data": {
      "text/plain": [
       "(array([8311.,    0., 7869.]),\n",
       " array([0. , 0.5, 1. , 1.5]),\n",
       " <a list of 3 Patch objects>)"
      ]
     },
     "execution_count": 33,
     "metadata": {},
     "output_type": "execute_result"
    },
    {
     "data": {
      "image/png": "[encoded data removed]",
      "text/plain": [
       "<Figure size 432x288 with 1 Axes>"
      ]
     },
     "metadata": {
      "needs_background": "light"
     },
     "output_type": "display_data"
    }
   ],
   "source": [
    "print(labels)\n",
    "plt.hist(labels, bins=np.arange(0, 2, 0.5))"
   ]
  },
  {
   "cell_type": "code",
   "execution_count": 34,
   "metadata": {},
   "outputs": [],
   "source": [
    "# Read the data\n",
    "data = pd.DataFrame({'labels': labels, 'nhits': nhits, 'q_sum': q_sum})\n",
    "\n",
    "# Select subset of predictors\n",
    "cols_to_use = ['nhits', 'q_sum']\n",
    "X = data[cols_to_use]\n",
    "\n",
    "# Select target\n",
    "y = data.labels\n",
    "\n",
    "# Separate data into training and validation sets\n",
    "X_train, X_valid, y_train, y_valid = train_test_split(X, y)"
   ]
  },
  {
   "cell_type": "code",
   "execution_count": 35,
   "metadata": {},
   "outputs": [
    {
     "name": "stderr",
     "output_type": "stream",
     "text": [
      "/opt/conda/lib/python3.6/site-packages/xgboost/core.py:587: FutureWarning: Series.base is deprecated and will be removed in a future version\n",
      "  if getattr(data, 'base', None) is not None and \\\n"
     ]
    },
    {
     "name": "stdout",
     "output_type": "stream",
     "text": [
      "[16:41:10] WARNING: /workspace/src/objective/regression_obj.cu:152: reg:linear is now deprecated in favor of reg:squarederror.\n"
     ]
    },
    {
     "data": {
      "text/plain": [
       "XGBRegressor(base_score=0.5, booster='gbtree', colsample_bylevel=1,\n",
       "             colsample_bynode=1, colsample_bytree=1, gamma=0,\n",
       "             importance_type='gain', learning_rate=0.1, max_delta_step=0,\n",
       "             max_depth=3, min_child_weight=1, missing=None, n_estimators=100,\n",
       "             n_jobs=1, nthread=None, objective='reg:linear', random_state=0,\n",
       "             reg_alpha=0, reg_lambda=1, scale_pos_weight=1, seed=None,\n",
       "             silent=None, subsample=1, verbosity=1)"
      ]
     },
     "execution_count": 35,
     "metadata": {},
     "output_type": "execute_result"
    }
   ],
   "source": [
    "from xgboost import XGBRegressor\n",
    "\n",
    "my_model = XGBRegressor()\n",
    "my_model.fit(X_train, y_train)"
   ]
  },
  {
   "cell_type": "code",
   "execution_count": 36,
   "metadata": {},
   "outputs": [
    {
     "name": "stdout",
     "output_type": "stream",
     "text": [
      "Mean Absolute Error: 0.17624210061779422\n"
     ]
    }
   ],
   "source": [
    "from sklearn.metrics import mean_absolute_error\n",
    "\n",
    "predictions = my_model.predict(X_valid)\n",
    "print(\"Mean Absolute Error: \" + str(mean_absolute_error(predictions, y_valid)))"
   ]
  },
  {
   "cell_type": "code",
   "execution_count": 37,
   "metadata": {},
   "outputs": [
    {
     "name": "stdout",
     "output_type": "stream",
     "text": [
      "[2.3038352e-01 5.6139654e-01 4.5654178e-04 ... 4.5654178e-04 9.9933970e-01\n",
      " 2.9928529e-01]\n"
     ]
    }
   ],
   "source": [
    "print(predictions)"
   ]
  },
  {
   "cell_type": "code",
   "execution_count": 38,
   "metadata": {},
   "outputs": [
    {
     "name": "stdout",
     "output_type": "stream",
     "text": [
      "<class 'numpy.ndarray'>\n"
     ]
    }
   ],
   "source": [
    "print(type(predictions))"
   ]
  },
  {
   "cell_type": "code",
   "execution_count": 39,
   "metadata": {},
   "outputs": [
    {
     "name": "stdout",
     "output_type": "stream",
     "text": [
      "4045\n"
     ]
    }
   ],
   "source": [
    "accuracy = np.count_nonzero(np.absolute(predictions - y_valid) < 0.5)\n",
    "print(predictions.size)"
   ]
  },
  {
   "cell_type": "code",
   "execution_count": 40,
   "metadata": {},
   "outputs": [
    {
     "name": "stdout",
     "output_type": "stream",
     "text": [
      "Accuracy: 0.8682323856613102\n"
     ]
    }
   ],
   "source": [
    "print(\"Accuracy: \" + str(accuracy / predictions.size))"
   ]
  },
  {
   "cell_type": "code",
   "execution_count": null,
   "metadata": {},
   "outputs": [],
   "source": []
  },
  {
   "cell_type": "code",
   "execution_count": null,
   "metadata": {},
   "outputs": [],
   "source": []
  }
 ],
 "metadata": {
  "kernelspec": {
   "display_name": "Python 3",
   "language": "python",
   "name": "python3"
  },
  "language_info": {
   "codemirror_mode": {
    "name": "ipython",
    "version": 3
   },
   "file_extension": ".py",
   "mimetype": "text/x-python",
   "name": "python",
   "nbconvert_exporter": "python",
   "pygments_lexer": "ipython3",
   "version": "3.6.9"
  }
 },
 "nbformat": 4,
 "nbformat_minor": 2
}
