{
 "cells": [
  {
   "cell_type": "code",
   "execution_count": 1,
   "metadata": {
    "scrolled": true
   },
   "outputs": [],
   "source": [
    "import os.path as osp\n",
    "\n",
    "import torch\n",
    "import torch.nn.functional as F\n",
    "from torch_geometric.datasets import Planetoid\n",
    "import torch_geometric.transforms as T\n",
    "from torch_geometric.nn import GCNConv, ChebConv  # noqa\n",
    "from torch_geometric.nn import global_max_pool\n",
    "from torch_geometric.data import Batch, Data\n",
    "\n",
    "import numpy as np\n",
    "import h5py\n",
    "\n",
    "import time\n"
   ]
  },
  {
   "cell_type": "markdown",
   "metadata": {},
   "source": [
    "# H5"
   ]
  },
  {
   "cell_type": "code",
   "execution_count": 2,
   "metadata": {},
   "outputs": [
    {
     "name": "stdout",
     "output_type": "stream",
     "text": [
      "['angles', 'energies', 'event_data', 'event_ids', 'labels', 'positions', 'root_files']\n",
      "(2937, 15808, 2) (2937,)\n"
     ]
    }
   ],
   "source": [
    "h5_data = h5py.File(\"../preprocessing/merger_test.h5\", 'r')\n",
    "\n",
    "print(list(h5_data.keys()))\n",
    "\n",
    "event_data = h5_data['event_data']\n",
    "labels = h5_data['labels']\n",
    "\n",
    "print(event_data.shape, labels.shape)"
   ]
  },
  {
   "cell_type": "code",
   "execution_count": 3,
   "metadata": {},
   "outputs": [],
   "source": [
    "batch_size = 32\n",
    "max_event = event_data.shape[0]\n",
    "nodes = event_data.shape[1]"
   ]
  },
  {
   "cell_type": "code",
   "execution_count": 4,
   "metadata": {},
   "outputs": [],
   "source": [
    "edge_index = torch.zeros([nodes, nodes], dtype=torch.int64)\n",
    "\n",
    "import pickle\n",
    "with open(\"../visualization/edges_dict.pkl\", 'rb') as f:\n",
    "    edges = pickle.load(f)\n",
    "    \n",
    "    for k,vs in edges.items():\n",
    "        for v in vs:\n",
    "            edge_index[k,v] = 1\n",
    "            \n",
    "edge_index=edge_index.to_sparse()._indices()"
   ]
  },
  {
   "cell_type": "code",
   "execution_count": 5,
   "metadata": {},
   "outputs": [
    {
     "name": "stdout",
     "output_type": "stream",
     "text": [
      "torch.Size([2, 2129664])\n",
      "tensor(indices=tensor([[    13,     13,     20,  ..., 505798, 505820, 505820],\n",
      "                       [     0,      1,      0,  ...,      1,      0,      1]]),\n",
      "       values=tensor([   1.2413,  988.0000,    1.2055,  ..., 1004.9000,\n",
      "                         1.5430,  993.0000]),\n",
      "       size=(505856, 2), nnz=129966, layout=torch.sparse_coo)\n"
     ]
    }
   ],
   "source": [
    "datas = []\n",
    "\n",
    "for i in np.random.randint(0, max_event, batch_size): \n",
    "    x = torch.from_numpy(event_data[i])\n",
    "    \n",
    "    y = torch.tensor([labels[i]], dtype=torch.int64)\n",
    "    \n",
    "    data = Data(x=x, y=y, edge_index=edge_index)\n",
    "    datas.append(data)\n",
    "\n",
    "batch = Batch.from_data_list(datas)\n",
    "\n",
    "print(batch.edge_index.shape)\n",
    "print(batch.x.to_sparse())"
   ]
  },
  {
   "cell_type": "markdown",
   "metadata": {},
   "source": [
    "# Network stuff"
   ]
  },
  {
   "cell_type": "code",
   "execution_count": 6,
   "metadata": {},
   "outputs": [],
   "source": [
    "class Net(torch.nn.Module):\n",
    "    def __init__(self):\n",
    "        super(Net, self).__init__()\n",
    "        self.conv1 = GCNConv(2, 16, cached=True)\n",
    "        self.conv2 = GCNConv(16, 16, cached=True)\n",
    "        self.conv3 = GCNConv(16, 5, cached=True)\n",
    "\n",
    "#         self.conv1 = ChebConv(2, 16, K=2)\n",
    "#         self.conv2 = ChebConv(16, 5, K=2)\n",
    "\n",
    "    def forward(self, x, edge_index, batch):\n",
    "        x = F.relu(self.conv1(x, edge_index))\n",
    "        x = F.dropout(x, training=self.training)\n",
    "        x = F.relu(self.conv2(x, edge_index))\n",
    "        x = F.dropout(x, training=self.training)\n",
    "        x = self.conv3(x, edge_index)\n",
    "        x = global_max_pool(x, batch)\n",
    "        return F.log_softmax(x, dim=1)"
   ]
  },
  {
   "cell_type": "code",
   "execution_count": 7,
   "metadata": {},
   "outputs": [],
   "source": [
    "device = torch.device('cuda' if torch.cuda.is_available() else 'cpu')\n",
    "model= Net().to(device)\n",
    "batch = batch.to(device)\n",
    "# data = data.to(device)\n",
    "optimizer = torch.optim.Adam(model.parameters(), lr=0.01, weight_decay=5e-4)\n"
   ]
  },
  {
   "cell_type": "code",
   "execution_count": 8,
   "metadata": {},
   "outputs": [],
   "source": [
    "def train():\n",
    "    model.train()\n",
    "    optimizer.zero_grad()\n",
    "#     output = model(batch.x.to_sparse(), batch.edge_index, batch.batch)\n",
    "    output = model(batch.x, batch.edge_index, batch.batch)\n",
    "\n",
    "    F.nll_loss(output, batch.y).backward()\n",
    "    optimizer.step()\n",
    "\n",
    "\n",
    "def test():\n",
    "    model.eval()\n",
    "    logits = model(batch.x, batch.edge_index, batch.batch)\n",
    "    pred = logits.argmax(1)\n",
    "    acc = pred.eq(batch.y).sum().item() / batch.y.shape[0]\n",
    "    return acc"
   ]
  },
  {
   "cell_type": "code",
   "execution_count": 9,
   "metadata": {},
   "outputs": [
    {
     "name": "stdout",
     "output_type": "stream",
     "text": [
      "14.588780164718628\n"
     ]
    }
   ],
   "source": [
    "start = time.time()\n",
    "\n",
    "best_acc = 0\n",
    "batch.x = batch.x.to_sparse()\n",
    "for epoch in range(1, 201):\n",
    "    train()\n",
    "#     train_acc = test()\n",
    "#     if train_acc > best_acc:\n",
    "#         best_acc = train_acc\n",
    "#     log = 'Epoch: {:03d}, Train: {:.4f}, Best: {:.4f}'\n",
    "#     print(log.format(epoch, train_acc, best_acc))\n",
    "print(time.time() - start)"
   ]
  },
  {
   "cell_type": "code",
   "execution_count": null,
   "metadata": {},
   "outputs": [],
   "source": []
  }
 ],
 "metadata": {
  "kernelspec": {
   "display_name": "Python 3",
   "language": "python",
   "name": "python3"
  },
  "language_info": {
   "codemirror_mode": {
    "name": "ipython",
    "version": 3
   },
   "file_extension": ".py",
   "mimetype": "text/x-python",
   "name": "python",
   "nbconvert_exporter": "python",
   "pygments_lexer": "ipython3",
   "version": "3.6.5"
  }
 },
 "nbformat": 4,
 "nbformat_minor": 2
}
