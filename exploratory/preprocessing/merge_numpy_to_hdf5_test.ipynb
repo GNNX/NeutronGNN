{
 "cells": [
  {
   "cell_type": "code",
   "execution_count": 1,
   "metadata": {},
   "outputs": [],
   "source": [
    "import os\n",
    "import h5py\n",
    "import argparse\n",
    "import numpy as np"
   ]
  },
  {
   "cell_type": "code",
   "execution_count": 2,
   "metadata": {},
   "outputs": [],
   "source": [
    "EVENT_SHAPE = (15808, 2)\n"
   ]
  },
  {
   "cell_type": "code",
   "execution_count": 3,
   "metadata": {},
   "outputs": [],
   "source": [
    "def parse_args():\n",
    "    parser = argparse.ArgumentParser(\n",
    "        description=\"Merges numpy arrays; outputs hdf5 file\")\n",
    "    parser.add_argument(\"input_file_list\",\n",
    "                        type=str, nargs=1,\n",
    "                        help=\"Path to input text file,\\\n",
    "                        each file on a different line.\")\n",
    "    parser.add_argument('output_file', type=str, nargs=1,\n",
    "                        help=\"Path to output file.\")  \n",
    "    args = parser.parse_args()\n",
    "    return args\n",
    "\n",
    "def count_events(files):\n",
    "    # Because we want to remove events with 0 hits, \n",
    "    # we need to count the events beforehand (to create the h5 file).\n",
    "    # This function counts and indexes the events with more than 0 hits.\n",
    "    # Files need to be iterated in the same order to use the indexes.\n",
    "    num_events = 0\n",
    "    nonzero_file_events = []\n",
    "    for file_index, f in enumerate(files):\n",
    "        data = np.load(f, allow_pickle=True)\n",
    "        nonzero_file_events.append([])\n",
    "        hits = data['digi_hit_pmt']\n",
    "        for i in range(len(hits)):\n",
    "            if len(hits[i]) != 0:\n",
    "                nonzero_file_events[file_index].append(i)\n",
    "                num_events += 1\n",
    "    return (num_events, nonzero_file_events)"
   ]
  },
  {
   "cell_type": "code",
   "execution_count": null,
   "metadata": {},
   "outputs": [],
   "source": [
    "# if __name__ == '__main__':\n",
    "\n",
    "# -- Parse arguments\n",
    "config = parse_args()\n",
    "\n",
    "# Read in the input file list\n",
    "with open(config.input_file_list[0]) as f:\n",
    "    files = f.readlines()\n",
    "\n",
    "# Remove whitespace \n",
    "files = [x.strip() for x in files] \n",
    "\n",
    "# Check that files were provided\n",
    "if len(files) == 0:\n",
    "    raise ValueError(\"No files provided!!\")\n",
    "print(\"Merging \"+str(len(files))+\" files\")\n"
   ]
  },
  {
   "cell_type": "code",
   "execution_count": 4,
   "metadata": {},
   "outputs": [],
   "source": [
    "files = [\"/app/IWCDmPMT_4pi_full_tank_e-_E0to1000MeV_unif-pos-R371-y521cm_4pi-dir_3000evts_518.npz\"]\n",
    "output_file = \"merger_test.h5\""
   ]
  },
  {
   "cell_type": "code",
   "execution_count": 5,
   "metadata": {},
   "outputs": [
    {
     "name": "stdout",
     "output_type": "stream",
     "text": [
      "2937\n"
     ]
    }
   ],
   "source": [
    "# Start merging\n",
    "num_nonzero_events, nonzero_event_indexes = count_events(files)\n",
    "print(num_nonzero_events) \n",
    "dtype_events = np.dtype(np.float32)\n",
    "dtype_labels = np.dtype(np.int32)\n",
    "dtype_energies = np.dtype(np.float32)\n",
    "dtype_positions = np.dtype(np.float32)\n",
    "dtype_IDX = np.dtype(np.int32)\n",
    "dtype_PATHS = h5py.special_dtype(vlen=str)\n",
    "dtype_angles = np.dtype(np.float32)\n",
    "# h5_file = h5py.File(config.output_file[0], 'w')\n",
    "h5_file = h5py.File(output_file, 'w')\n",
    "\n",
    "dset_event_data = h5_file.create_dataset(\"event_data\",\n",
    "                                   shape=(num_nonzero_events,)+EVENT_SHAPE,\n",
    "                                   dtype=dtype_events)\n",
    "dset_labels = h5_file.create_dataset(\"labels\",\n",
    "                               shape=(num_nonzero_events,),\n",
    "                               dtype=dtype_labels)\n",
    "dset_energies = h5_file.create_dataset(\"energies\",\n",
    "                                 shape=(num_nonzero_events, 1),\n",
    "                                 dtype=dtype_energies)\n",
    "dset_positions = h5_file.create_dataset(\"positions\",\n",
    "                                  shape=(num_nonzero_events, 1, 3),\n",
    "                                  dtype=dtype_positions)\n",
    "dset_IDX = h5_file.create_dataset(\"event_ids\",\n",
    "                            shape=(num_nonzero_events,),\n",
    "                            dtype=dtype_IDX)\n",
    "dset_PATHS = h5_file.create_dataset(\"root_files\",\n",
    "                              shape=(num_nonzero_events,),\n",
    "                              dtype=dtype_PATHS)\n",
    "dset_angles = h5_file.create_dataset(\"angles\",\n",
    "                             shape=(num_nonzero_events, 2),\n",
    "                             dtype=dtype_angles)"
   ]
  },
  {
   "cell_type": "code",
   "execution_count": 6,
   "metadata": {},
   "outputs": [
    {
     "name": "stdout",
     "output_type": "stream",
     "text": [
      "Finished file: /app/IWCDmPMT_4pi_full_tank_e-_E0to1000MeV_unif-pos-R371-y521cm_4pi-dir_3000evts_518.npz\n"
     ]
    }
   ],
   "source": [
    "# 22 -> gamma, 11 -> electron, 13 -> muon\n",
    "# corresponds to labelling used in CNN with only barrel\n",
    "#IWCDmPMT_4pi_full_tank_gamma_E0to1000MeV_unif-pos-R371-y521cm_4pi-dir_3000evts_329.npz has an event with pid 11 though....\n",
    "#pid_to_label = {22:0, 11:1, 13:2}\n",
    "\n",
    "offset = 0\n",
    "offset_next = 0\n",
    "for file_index, filename in enumerate(files):\n",
    "    data = np.load(filename, allow_pickle=True)\n",
    "    nonzero_events_in_file = len(nonzero_event_indexes[file_index])\n",
    "    x_data = np.zeros((nonzero_events_in_file,)+EVENT_SHAPE, \n",
    "                      dtype=dtype_events)\n",
    "    digi_hit_pmt = data['digi_hit_pmt']\n",
    "    digi_hit_charge = data['digi_hit_charge']\n",
    "    digi_hit_time = data['digi_hit_time']\n",
    "    digi_hit_trigger = data['digi_hit_trigger']\n",
    "    trigger_time = data['trigger_time']\n",
    "    delay = 0\n",
    "    for i in range(len(digi_hit_pmt)):\n",
    "        first_trigger = np.argmin(trigger_time[i])\n",
    "        good_hits = np.where(digi_hit_trigger[i]==first_trigger)\n",
    "        hit_pmts = digi_hit_pmt[i][good_hits]\n",
    "        if len(hit_pmts) == 0:\n",
    "            delay += 1\n",
    "            continue\n",
    "        charge = digi_hit_charge[i][good_hits]\n",
    "        time = digi_hit_time[i][good_hits]\n",
    "#         hit_mpmts = hit_pmts // 19\n",
    "#         pmt_channels = hit_pmts % 19\n",
    "#         rows = mPMT_to_index[hit_mpmts,0]\n",
    "#         cols = mPMT_to_index[hit_mpmts,1]\n",
    "        x_data[i-delay, hit_pmts, 0] = charge\n",
    "        x_data[i-delay, hit_pmts, 1] = time\n",
    "\n",
    "    event_id = data['event_id']\n",
    "    root_file = data['root_file']\n",
    "    pid = data['pid']\n",
    "    position = data['position']\n",
    "    direction = data['direction']\n",
    "    energy = data['energy'] \n",
    "\n",
    "    offset_next += nonzero_events_in_file \n",
    "\n",
    "    file_indices = nonzero_event_indexes[file_index]\n",
    "\n",
    "    dset_IDX[offset:offset_next] = event_id[file_indices]\n",
    "    dset_PATHS[offset:offset_next] = root_file[file_indices]\n",
    "    dset_energies[offset:offset_next,:] = energy[file_indices].reshape(-1,1)\n",
    "    dset_positions[offset:offset_next,:,:] = position[file_indices].reshape(-1,1,3)\n",
    "\n",
    "    labels = np.full(pid.shape[0], -1)\n",
    "    labels[pid==22] = 0\n",
    "    labels[pid==11] = 1\n",
    "    labels[pid==13] = 2\n",
    "    dset_labels[offset:offset_next] = labels[file_indices]\n",
    "\n",
    "    direction = direction[file_indices]\n",
    "    polar = np.arccos(direction[:,1])\n",
    "    azimuth = np.arctan2(direction[:,2], direction[:,0])\n",
    "    dset_angles[offset:offset_next,:] = np.hstack((polar.reshape(-1,1),azimuth.reshape(-1,1)))\n",
    "    dset_event_data[offset:offset_next,:] = x_data\n",
    "\n",
    "    offset = offset_next\n",
    "    print(\"Finished file: {}\".format(filename))\n",
    "\n"
   ]
  },
  {
   "cell_type": "code",
   "execution_count": 7,
   "metadata": {},
   "outputs": [
    {
     "name": "stdout",
     "output_type": "stream",
     "text": [
      "Saving\n",
      "Finished\n"
     ]
    }
   ],
   "source": [
    "print(\"Saving\")\n",
    "h5_file.close()\n",
    "print(\"Finished\")"
   ]
  },
  {
   "cell_type": "code",
   "execution_count": null,
   "metadata": {},
   "outputs": [],
   "source": []
  }
 ],
 "metadata": {
  "kernelspec": {
   "display_name": "Python 3",
   "language": "python",
   "name": "python3"
  },
  "language_info": {
   "codemirror_mode": {
    "name": "ipython",
    "version": 3
   },
   "file_extension": ".py",
   "mimetype": "text/x-python",
   "name": "python",
   "nbconvert_exporter": "python",
   "pygments_lexer": "ipython3",
   "version": "3.6.5"
  }
 },
 "nbformat": 4,
 "nbformat_minor": 2
}
