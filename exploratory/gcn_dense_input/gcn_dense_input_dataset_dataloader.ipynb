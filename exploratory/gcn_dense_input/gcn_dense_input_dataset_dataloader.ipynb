{
 "cells": [
  {
   "cell_type": "code",
   "execution_count": 1,
   "metadata": {
    "scrolled": true
   },
   "outputs": [],
   "source": [
    "# Network\n",
    "import torch\n",
    "import torch.nn.functional as F\n",
    "\n",
    "from torch_geometric.nn import GCNConv, ChebConv\n",
    "from torch_geometric.nn import global_max_pool\n",
    "\n",
    "# Data\n",
    "from torch.utils.data.sampler import SubsetRandomSampler\n",
    "\n",
    "from torch_geometric.data import Batch, Data, Dataset, DataLoader\n",
    "\n",
    "# General\n",
    "import numpy as np\n",
    "\n",
    "# Util\n",
    "import os.path as osp\n",
    "import h5py\n",
    "import pickle\n",
    "\n",
    "import time\n"
   ]
  },
  {
   "cell_type": "markdown",
   "metadata": {},
   "source": [
    "### Generate fake indicies"
   ]
  },
  {
   "cell_type": "code",
   "execution_count": 2,
   "metadata": {},
   "outputs": [],
   "source": [
    "# length = 2937\n",
    "# splits = 10\n",
    "# random_shuffle = np.random.permutation(length)\n",
    "# validation_indicies = random_shuffle[:length//splits]\n",
    "# test_indicies = random_shuffle[length//splits:2*length//splits]\n",
    "# train_indicies = random_shuffle[2*length//splits:]\n",
    "\n",
    "# with open(\"train_indicies.txt\", 'w') as f:\n",
    "#     f.writelines([\"{}\\n\".format(i) for i in train_indicies])\n",
    "    \n",
    "# with open(\"validation_indicies.txt\", 'w') as f:\n",
    "#     f.writelines([\"{}\\n\".format(i) for i in validation_indicies])\n",
    "\n",
    "# with open(\"test_indicies.txt\", 'w') as f:\n",
    "#     f.writelines([\"{}\\n\".format(i) for i in test_indicies])"
   ]
  },
  {
   "cell_type": "markdown",
   "metadata": {},
   "source": [
    "# Data Loader"
   ]
  },
  {
   "cell_type": "code",
   "execution_count": 3,
   "metadata": {},
   "outputs": [],
   "source": [
    "\n",
    "class WCH5Dataset(Dataset):\n",
    "    \"\"\"\n",
    "    Dataset storing image-like data from Water Cherenkov detector\n",
    "    memory-maps the detector data from hdf5 file\n",
    "    The detector data must be uncompresses and unchunked\n",
    "    labels are loaded into memory outright\n",
    "    No other data is currently loaded \n",
    "    \"\"\"\n",
    "\n",
    "    # Override the default implementation\n",
    "    def _download(self):\n",
    "        pass\n",
    "    \n",
    "    def _process(self):\n",
    "        pass\n",
    "    \n",
    "    \n",
    "    def __init__(self, path, train_indices_file, validation_indices_file, test_indices_file, \n",
    "                 edge_index_pickle, nodes=15808,\n",
    "                 transform=None, pre_transform=None, pre_filter=None, \n",
    "                 use_node_attr=False, use_edge_attr=False, cleaned=False):\n",
    "\n",
    "        super(WCH5Dataset, self).__init__(\"\", transform, pre_transform,\n",
    "                                        pre_filter)\n",
    "        \n",
    "        f=h5py.File(path,'r')\n",
    "        hdf5_event_data = f[\"event_data\"]\n",
    "        hdf5_labels=f[\"labels\"]\n",
    "\n",
    "        assert hdf5_event_data.shape[0] == hdf5_labels.shape[0]\n",
    "\n",
    "        event_data_shape = hdf5_event_data.shape\n",
    "        event_data_offset = hdf5_event_data.id.get_offset()\n",
    "        event_data_dtype = hdf5_event_data.dtype\n",
    "\n",
    "        #this creates a memory map - i.e. events are not loaded in memory here\n",
    "        #only on get_item\n",
    "        self.event_data = np.memmap(path, mode='r', shape=event_data_shape, \n",
    "                                    offset=event_data_offset, dtype=event_data_dtype)\n",
    "        \n",
    "        #this will fit easily in memory even for huge datasets\n",
    "        self.labels = np.array(hdf5_labels)\n",
    "        self.nodes = nodes\n",
    "        self.load_edges(edge_index_pickle)\n",
    "        \n",
    "        self.transform=transform\n",
    "        \n",
    "        #the section below handles the subset\n",
    "        #(for reduced dataset training tests)\n",
    "        #as well as shuffling and train/test/validation splits\n",
    "            \n",
    "        self.train_indices = self.load_indicies(train_indices_file)\n",
    "        self.val_indices = self.load_indicies(validation_indices_file)\n",
    "        self.test_indices = self.load_indicies(test_indices_file)\n",
    "    \n",
    "    def load_indicies(self, indicies_file):\n",
    "        with open(indicies_file, 'r') as f:\n",
    "            lines = f.readlines()\n",
    "        # indicies = [int(l.strip()) for l in lines if not l.isspace()]\n",
    "        indicies = [int(l.strip()) for l in lines]\n",
    "        return indicies\n",
    "    \n",
    "    def load_edges(self, edge_index_pickle):\n",
    "        edge_index = torch.zeros([self.nodes, self.nodes], dtype=torch.int64)\n",
    "\n",
    "        with open(edge_index_pickle, 'rb') as f:\n",
    "            edges = pickle.load(f)\n",
    "\n",
    "            for k,vs in edges.items():\n",
    "                for v in vs:\n",
    "                    edge_index[k,v] = 1\n",
    "\n",
    "        self.edge_index=edge_index.to_sparse()._indices()\n",
    "    \n",
    "    def get(self, idx):\n",
    "        x = torch.from_numpy(self.event_data[idx])\n",
    "        y = torch.tensor([self.labels[idx]], dtype=torch.int64)\n",
    "\n",
    "        return Data(x=x, y=y, edge_index=self.edge_index)\n",
    "\n",
    "    def __len__(self):\n",
    "        return self.labels.shape[0]"
   ]
  },
  {
   "cell_type": "code",
   "execution_count": 4,
   "metadata": {},
   "outputs": [],
   "source": [
    "dataset = WCH5Dataset(\"/app/IWCDmPMT_4pi_full_tank_test.h5\", \n",
    "                      \"train_indicies.txt\", \"validation_indicies.txt\", \"test_indicies.txt\",\n",
    "                      \"../../visualization/edges_dict.pkl\")"
   ]
  },
  {
   "cell_type": "code",
   "execution_count": 5,
   "metadata": {},
   "outputs": [],
   "source": [
    "train_loader=DataLoader(dataset, batch_size=32, \n",
    "                        pin_memory=True, sampler=SubsetRandomSampler(dataset.train_indices))"
   ]
  },
  {
   "cell_type": "code",
   "execution_count": 6,
   "metadata": {},
   "outputs": [],
   "source": [
    "batch = train_loader.__iter__().__next__()"
   ]
  },
  {
   "cell_type": "markdown",
   "metadata": {},
   "source": [
    "# Network stuff"
   ]
  },
  {
   "cell_type": "code",
   "execution_count": 7,
   "metadata": {},
   "outputs": [],
   "source": [
    "class Net(torch.nn.Module):\n",
    "    def __init__(self):\n",
    "        super(Net, self).__init__()\n",
    "        self.conv1 = GCNConv(2, 16, cached=True)\n",
    "        self.conv2 = GCNConv(16, 16, cached=True)\n",
    "        self.conv3 = GCNConv(16, 5, cached=True)\n",
    "\n",
    "#         self.conv1 = ChebConv(2, 16, K=2)\n",
    "#         self.conv2 = ChebConv(16, 5, K=2)\n",
    "\n",
    "    def forward(self, x, edge_index, batch):\n",
    "        x = F.relu(self.conv1(x, edge_index))\n",
    "        x = F.dropout(x, training=self.training)\n",
    "        x = F.relu(self.conv2(x, edge_index))\n",
    "        x = F.dropout(x, training=self.training)\n",
    "        x = self.conv3(x, edge_index)\n",
    "        x = global_max_pool(x, batch)\n",
    "        return F.log_softmax(x, dim=1)"
   ]
  },
  {
   "cell_type": "code",
   "execution_count": 8,
   "metadata": {},
   "outputs": [],
   "source": [
    "device = torch.device('cuda' if torch.cuda.is_available() else 'cpu')\n",
    "model= Net().to(device)\n",
    "batch = batch.to(device)\n",
    "# data = data.to(device)\n",
    "optimizer = torch.optim.Adam(model.parameters(), lr=0.01, weight_decay=5e-4)\n"
   ]
  },
  {
   "cell_type": "code",
   "execution_count": 9,
   "metadata": {},
   "outputs": [],
   "source": [
    "def train():\n",
    "    model.train()\n",
    "    optimizer.zero_grad()\n",
    "#     output = model(batch.x.to_sparse(), batch.edge_index, batch.batch)\n",
    "    output = model(batch.x, batch.edge_index, batch.batch)\n",
    "\n",
    "    F.nll_loss(output, batch.y).backward()\n",
    "    optimizer.step()\n",
    "\n",
    "\n",
    "def test():\n",
    "    model.eval()\n",
    "    logits = model(batch.x, batch.edge_index, batch.batch)\n",
    "    pred = logits.argmax(1)\n",
    "    acc = pred.eq(batch.y).sum().item() / batch.y.shape[0]\n",
    "    return acc"
   ]
  },
  {
   "cell_type": "code",
   "execution_count": 10,
   "metadata": {},
   "outputs": [
    {
     "name": "stdout",
     "output_type": "stream",
     "text": [
      "14.30902886390686\n"
     ]
    }
   ],
   "source": [
    "start = time.time()\n",
    "\n",
    "best_acc = 0\n",
    "batch.x = batch.x.to_sparse()\n",
    "for epoch in range(1, 201):\n",
    "    train()\n",
    "#     train_acc = test()\n",
    "#     if train_acc > best_acc:\n",
    "#         best_acc = train_acc\n",
    "#     log = 'Epoch: {:03d}, Train: {:.4f}, Best: {:.4f}'\n",
    "#     print(log.format(epoch, train_acc, best_acc))\n",
    "print(time.time() - start)"
   ]
  },
  {
   "cell_type": "code",
   "execution_count": null,
   "metadata": {},
   "outputs": [],
   "source": []
  }
 ],
 "metadata": {
  "kernelspec": {
   "display_name": "Python 3",
   "language": "python",
   "name": "python3"
  },
  "language_info": {
   "codemirror_mode": {
    "name": "ipython",
    "version": 3
   },
   "file_extension": ".py",
   "mimetype": "text/x-python",
   "name": "python",
   "nbconvert_exporter": "python",
   "pygments_lexer": "ipython3",
   "version": "3.6.5"
  }
 },
 "nbformat": 4,
 "nbformat_minor": 2
}
